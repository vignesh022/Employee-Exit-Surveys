{
 "cells": [
  {
   "cell_type": "markdown",
   "metadata": {},
   "source": [
    "# Analyzing employee exit surveys to gauge job satisfaction levels\n",
    "\n",
    "Exit surveys are administered by most organizations as a means for the employees to provide critical feedback to their employers. The survey answers can help the organization address their defeciencies and promote a healthy work environment.\n",
    "\n",
    "The data presented in this analysis is a collection of employee exit surveys from the Department of Education, Training and Employment (DETE) and the Technical and Further Education (TAFE) institute in Queensland, Australia.\n",
    "* DETE exit survey details and dataset can be found [here](https://data.gov.au/dataset/ds-qld-fe96ff30-d157-4a81-851d-215f2a0fe26d/details?q=exit%20survey).\n",
    "* TAFE exit survey details and dataset can be found [here](https://data.gov.au/dataset/ds-qld-89970a3b-182b-41ea-aea2-6f9f17b5907e/details?q=exit%20survey).\n",
    "\n",
    "Through analyzing these 2 exit surveys we hope to answer the following:\n",
    "* Is some form of dissatisfaction behind employees who have worked for the institutes for a short period of time choosing to resign? What about employees who have been employed for longer periods of time?\n",
    "* Are younger employees choosing resigning due to some kind of dissatisfaction compared to older employees?"
   ]
  },
  {
   "cell_type": "code",
   "execution_count": 1,
   "metadata": {
    "collapsed": true
   },
   "outputs": [],
   "source": [
    "import numpy as np\n",
    "import pandas as pd\n",
    "import matplotlib.pyplot as plt\n",
    "import seaborn as sns\n",
    "%matplotlib inline"
   ]
  },
  {
   "cell_type": "code",
   "execution_count": 2,
   "metadata": {
    "collapsed": false
   },
   "outputs": [],
   "source": [
    "dete_survey = pd.read_csv('dete_survey.csv')\n",
    "tafe_survey = pd.read_csv('tafe_survey.csv')\n",
    "pd.options.display.max_columns = 150 # to avoid truncated output "
   ]
  },
  {
   "cell_type": "code",
   "execution_count": 3,
   "metadata": {
    "collapsed": false
   },
   "outputs": [
    {
     "name": "stdout",
     "output_type": "stream",
     "text": [
      "DETE Exit Survey Info: \n",
      "\n",
      "<class 'pandas.core.frame.DataFrame'>\n",
      "RangeIndex: 822 entries, 0 to 821\n",
      "Data columns (total 56 columns):\n",
      "ID                                     822 non-null int64\n",
      "SeparationType                         822 non-null object\n",
      "Cease Date                             822 non-null object\n",
      "DETE Start Date                        822 non-null object\n",
      "Role Start Date                        822 non-null object\n",
      "Position                               817 non-null object\n",
      "Classification                         455 non-null object\n",
      "Region                                 822 non-null object\n",
      "Business Unit                          126 non-null object\n",
      "Employment Status                      817 non-null object\n",
      "Career move to public sector           822 non-null bool\n",
      "Career move to private sector          822 non-null bool\n",
      "Interpersonal conflicts                822 non-null bool\n",
      "Job dissatisfaction                    822 non-null bool\n",
      "Dissatisfaction with the department    822 non-null bool\n",
      "Physical work environment              822 non-null bool\n",
      "Lack of recognition                    822 non-null bool\n",
      "Lack of job security                   822 non-null bool\n",
      "Work location                          822 non-null bool\n",
      "Employment conditions                  822 non-null bool\n",
      "Maternity/family                       822 non-null bool\n",
      "Relocation                             822 non-null bool\n",
      "Study/Travel                           822 non-null bool\n",
      "Ill Health                             822 non-null bool\n",
      "Traumatic incident                     822 non-null bool\n",
      "Work life balance                      822 non-null bool\n",
      "Workload                               822 non-null bool\n",
      "None of the above                      822 non-null bool\n",
      "Professional Development               808 non-null object\n",
      "Opportunities for promotion            735 non-null object\n",
      "Staff morale                           816 non-null object\n",
      "Workplace issue                        788 non-null object\n",
      "Physical environment                   817 non-null object\n",
      "Worklife balance                       815 non-null object\n",
      "Stress and pressure support            810 non-null object\n",
      "Performance of supervisor              813 non-null object\n",
      "Peer support                           812 non-null object\n",
      "Initiative                             813 non-null object\n",
      "Skills                                 811 non-null object\n",
      "Coach                                  767 non-null object\n",
      "Career Aspirations                     746 non-null object\n",
      "Feedback                               792 non-null object\n",
      "Further PD                             768 non-null object\n",
      "Communication                          814 non-null object\n",
      "My say                                 812 non-null object\n",
      "Information                            816 non-null object\n",
      "Kept informed                          813 non-null object\n",
      "Wellness programs                      766 non-null object\n",
      "Health & Safety                        793 non-null object\n",
      "Gender                                 798 non-null object\n",
      "Age                                    811 non-null object\n",
      "Aboriginal                             16 non-null object\n",
      "Torres Strait                          3 non-null object\n",
      "South Sea                              7 non-null object\n",
      "Disability                             23 non-null object\n",
      "NESB                                   32 non-null object\n",
      "dtypes: bool(18), int64(1), object(37)\n",
      "memory usage: 258.6+ KB\n",
      "\n",
      "\n",
      "DETE Exit Survey Data Sample: \n",
      "\n",
      "   ID                    SeparationType Cease Date DETE Start Date  \\\n",
      "0   1             Ill Health Retirement    08/2012            1984   \n",
      "1   2  Voluntary Early Retirement (VER)    08/2012      Not Stated   \n",
      "2   3  Voluntary Early Retirement (VER)    05/2012            2011   \n",
      "3   4         Resignation-Other reasons    05/2012            2005   \n",
      "4   5                    Age Retirement    05/2012            1970   \n",
      "\n",
      "  Role Start Date                                      Position  \\\n",
      "0            2004                                Public Servant   \n",
      "1      Not Stated                                Public Servant   \n",
      "2            2011                               Schools Officer   \n",
      "3            2006                                       Teacher   \n",
      "4            1989  Head of Curriculum/Head of Special Education   \n",
      "\n",
      "  Classification              Region                      Business Unit  \\\n",
      "0        A01-A04      Central Office  Corporate Strategy and Peformance   \n",
      "1        AO5-AO7      Central Office  Corporate Strategy and Peformance   \n",
      "2            NaN      Central Office               Education Queensland   \n",
      "3        Primary  Central Queensland                                NaN   \n",
      "4            NaN          South East                                NaN   \n",
      "\n",
      "     Employment Status  Career move to public sector  \\\n",
      "0  Permanent Full-time                          True   \n",
      "1  Permanent Full-time                         False   \n",
      "2  Permanent Full-time                         False   \n",
      "3  Permanent Full-time                         False   \n",
      "4  Permanent Full-time                         False   \n",
      "\n",
      "   Career move to private sector  Interpersonal conflicts  \\\n",
      "0                          False                    False   \n",
      "1                          False                    False   \n",
      "2                          False                    False   \n",
      "3                           True                    False   \n",
      "4                          False                    False   \n",
      "\n",
      "   Job dissatisfaction  Dissatisfaction with the department  \\\n",
      "0                 True                                False   \n",
      "1                False                                False   \n",
      "2                False                                False   \n",
      "3                False                                False   \n",
      "4                False                                False   \n",
      "\n",
      "   Physical work environment  Lack of recognition  Lack of job security  \\\n",
      "0                      False                 True                 False   \n",
      "1                      False                False                 False   \n",
      "2                      False                False                 False   \n",
      "3                      False                False                 False   \n",
      "4                      False                False                 False   \n",
      "\n",
      "   Work location  Employment conditions  Maternity/family  Relocation  \\\n",
      "0          False                  False             False       False   \n",
      "1          False                  False             False       False   \n",
      "2          False                  False             False       False   \n",
      "3          False                  False             False       False   \n",
      "4          False                  False             False       False   \n",
      "\n",
      "   Study/Travel  Ill Health  Traumatic incident  Work life balance  Workload  \\\n",
      "0         False       False               False              False     False   \n",
      "1         False       False               False              False     False   \n",
      "2         False       False               False              False     False   \n",
      "3         False       False               False              False     False   \n",
      "4         False       False               False               True     False   \n",
      "\n",
      "   None of the above Professional Development Opportunities for promotion  \\\n",
      "0               True                        A                           A   \n",
      "1              False                        A                           A   \n",
      "2               True                        N                           N   \n",
      "3              False                        A                           N   \n",
      "4              False                        A                           A   \n",
      "\n",
      "  Staff morale Workplace issue Physical environment Worklife balance  \\\n",
      "0            N               N                    N                A   \n",
      "1            N               N                    N                N   \n",
      "2            N               N                    N                N   \n",
      "3            N               N                    A                A   \n",
      "4            N               N                    D                D   \n",
      "\n",
      "  Stress and pressure support Performance of supervisor Peer support  \\\n",
      "0                           A                         A            A   \n",
      "1                           A                         A            A   \n",
      "2                           N                         N            N   \n",
      "3                           N                         N            A   \n",
      "4                           N                         A            A   \n",
      "\n",
      "  Initiative Skills Coach Career Aspirations Feedback Further PD  \\\n",
      "0          N      N     N                  A        A          A   \n",
      "1          N      N     N                  A        A          A   \n",
      "2          N      N     N                  N        N          N   \n",
      "3          A      A     A                  A        A          A   \n",
      "4          A      A     A                  A       SA         SA   \n",
      "\n",
      "  Communication My say Information Kept informed Wellness programs  \\\n",
      "0             N      A           A             N                 N   \n",
      "1             N      A           A             N                 N   \n",
      "2             A      A           N             N                 N   \n",
      "3             A      A           A             A                 N   \n",
      "4             D      D           A             N                 A   \n",
      "\n",
      "  Health & Safety  Gender          Age Aboriginal Torres Strait South Sea  \\\n",
      "0               N    Male        56-60        NaN           NaN       NaN   \n",
      "1               N    Male        56-60        NaN           NaN       NaN   \n",
      "2               N    Male  61 or older        NaN           NaN       NaN   \n",
      "3               A  Female        36-40        NaN           NaN       NaN   \n",
      "4               M  Female  61 or older        NaN           NaN       NaN   \n",
      "\n",
      "  Disability NESB  \n",
      "0        NaN  Yes  \n",
      "1        NaN  NaN  \n",
      "2        NaN  NaN  \n",
      "3        NaN  NaN  \n",
      "4        NaN  NaN  \n",
      "\n",
      "\n",
      "DETE Exit Survey Column null value counts: \n",
      "\n",
      "ID                                       0\n",
      "SeparationType                           0\n",
      "Cease Date                               0\n",
      "DETE Start Date                          0\n",
      "Role Start Date                          0\n",
      "Position                                 5\n",
      "Classification                         367\n",
      "Region                                   0\n",
      "Business Unit                          696\n",
      "Employment Status                        5\n",
      "Career move to public sector             0\n",
      "Career move to private sector            0\n",
      "Interpersonal conflicts                  0\n",
      "Job dissatisfaction                      0\n",
      "Dissatisfaction with the department      0\n",
      "Physical work environment                0\n",
      "Lack of recognition                      0\n",
      "Lack of job security                     0\n",
      "Work location                            0\n",
      "Employment conditions                    0\n",
      "Maternity/family                         0\n",
      "Relocation                               0\n",
      "Study/Travel                             0\n",
      "Ill Health                               0\n",
      "Traumatic incident                       0\n",
      "Work life balance                        0\n",
      "Workload                                 0\n",
      "None of the above                        0\n",
      "Professional Development                14\n",
      "Opportunities for promotion             87\n",
      "Staff morale                             6\n",
      "Workplace issue                         34\n",
      "Physical environment                     5\n",
      "Worklife balance                         7\n",
      "Stress and pressure support             12\n",
      "Performance of supervisor                9\n",
      "Peer support                            10\n",
      "Initiative                               9\n",
      "Skills                                  11\n",
      "Coach                                   55\n",
      "Career Aspirations                      76\n",
      "Feedback                                30\n",
      "Further PD                              54\n",
      "Communication                            8\n",
      "My say                                  10\n",
      "Information                              6\n",
      "Kept informed                            9\n",
      "Wellness programs                       56\n",
      "Health & Safety                         29\n",
      "Gender                                  24\n",
      "Age                                     11\n",
      "Aboriginal                             806\n",
      "Torres Strait                          819\n",
      "South Sea                              815\n",
      "Disability                             799\n",
      "NESB                                   790\n",
      "dtype: int64\n",
      "\n",
      "\n",
      "DETE Exit Survey Response value counts: \n",
      "\n",
      "Not Stated    73\n",
      "2011          40\n",
      "2007          34\n",
      "2008          31\n",
      "2012          27\n",
      "2010          27\n",
      "2009          24\n",
      "2006          23\n",
      "2013          21\n",
      "1970          21\n",
      "1975          21\n",
      "1990          20\n",
      "2005          20\n",
      "1996          19\n",
      "1999          19\n",
      "1991          18\n",
      "2000          18\n",
      "1992          18\n",
      "2004          18\n",
      "1989          17\n",
      "2003          15\n",
      "1978          15\n",
      "2002          15\n",
      "1988          15\n",
      "1976          15\n",
      "1979          14\n",
      "1998          14\n",
      "1974          14\n",
      "1980          14\n",
      "1995          14\n",
      "1997          14\n",
      "1993          13\n",
      "1986          12\n",
      "1972          12\n",
      "1977          11\n",
      "1971          10\n",
      "1969          10\n",
      "1994          10\n",
      "1984          10\n",
      "2001          10\n",
      "1981           9\n",
      "1983           9\n",
      "1973           8\n",
      "1985           8\n",
      "1987           7\n",
      "1982           4\n",
      "1963           4\n",
      "1968           3\n",
      "1967           2\n",
      "1965           1\n",
      "1966           1\n",
      "Name: DETE Start Date, dtype: int64\n",
      "False    733\n",
      "True      89\n",
      "Name: Job dissatisfaction, dtype: int64\n",
      "False    761\n",
      "True      61\n",
      "Name: Dissatisfaction with the department, dtype: int64\n"
     ]
    }
   ],
   "source": [
    "# DETE Exit Survey\n",
    "print(\"DETE Exit Survey Info: \\n\")\n",
    "dete_survey.info()\n",
    "print('\\n')\n",
    "print(\"DETE Exit Survey Data Sample: \\n\")\n",
    "print(dete_survey.head(5))\n",
    "print('\\n')\n",
    "print(\"DETE Exit Survey Column null value counts: \\n\")\n",
    "print(dete_survey.isnull().sum())\n",
    "print('\\n')\n",
    "print(\"DETE Exit Survey Response value counts: \\n\")\n",
    "print(dete_survey[\"DETE Start Date\"].value_counts())\n",
    "print(dete_survey[\"Job dissatisfaction\"].value_counts())\n",
    "print(dete_survey[\"Dissatisfaction with the department\"].value_counts())\n"
   ]
  },
  {
   "cell_type": "code",
   "execution_count": 4,
   "metadata": {
    "collapsed": false
   },
   "outputs": [
    {
     "name": "stdout",
     "output_type": "stream",
     "text": [
      "TAFE Exit Survey Info: \n",
      "\n",
      "<class 'pandas.core.frame.DataFrame'>\n",
      "RangeIndex: 702 entries, 0 to 701\n",
      "Data columns (total 72 columns):\n",
      "Record ID                                                                                                                                                        702 non-null float64\n",
      "Institute                                                                                                                                                        702 non-null object\n",
      "WorkArea                                                                                                                                                         702 non-null object\n",
      "CESSATION YEAR                                                                                                                                                   695 non-null float64\n",
      "Reason for ceasing employment                                                                                                                                    701 non-null object\n",
      "Contributing Factors. Career Move - Public Sector                                                                                                                437 non-null object\n",
      "Contributing Factors. Career Move - Private Sector                                                                                                               437 non-null object\n",
      "Contributing Factors. Career Move - Self-employment                                                                                                              437 non-null object\n",
      "Contributing Factors. Ill Health                                                                                                                                 437 non-null object\n",
      "Contributing Factors. Maternity/Family                                                                                                                           437 non-null object\n",
      "Contributing Factors. Dissatisfaction                                                                                                                            437 non-null object\n",
      "Contributing Factors. Job Dissatisfaction                                                                                                                        437 non-null object\n",
      "Contributing Factors. Interpersonal Conflict                                                                                                                     437 non-null object\n",
      "Contributing Factors. Study                                                                                                                                      437 non-null object\n",
      "Contributing Factors. Travel                                                                                                                                     437 non-null object\n",
      "Contributing Factors. Other                                                                                                                                      437 non-null object\n",
      "Contributing Factors. NONE                                                                                                                                       437 non-null object\n",
      "Main Factor. Which of these was the main factor for leaving?                                                                                                     113 non-null object\n",
      "InstituteViews. Topic:1. I feel the senior leadership had a clear vision and direction                                                                           608 non-null object\n",
      "InstituteViews. Topic:2. I was given access to skills training to help me do my job better                                                                       613 non-null object\n",
      "InstituteViews. Topic:3. I was given adequate opportunities for personal development                                                                             610 non-null object\n",
      "InstituteViews. Topic:4. I was given adequate opportunities for promotion within %Institute]Q25LBL%                                                              608 non-null object\n",
      "InstituteViews. Topic:5. I felt the salary for the job was right for the responsibilities I had                                                                  615 non-null object\n",
      "InstituteViews. Topic:6. The organisation recognised when staff did good work                                                                                    607 non-null object\n",
      "InstituteViews. Topic:7. Management was generally supportive of me                                                                                               614 non-null object\n",
      "InstituteViews. Topic:8. Management was generally supportive of my team                                                                                          608 non-null object\n",
      "InstituteViews. Topic:9. I was kept informed of the changes in the organisation which would affect me                                                            610 non-null object\n",
      "InstituteViews. Topic:10. Staff morale was positive within the Institute                                                                                         602 non-null object\n",
      "InstituteViews. Topic:11. If I had a workplace issue it was dealt with quickly                                                                                   601 non-null object\n",
      "InstituteViews. Topic:12. If I had a workplace issue it was dealt with efficiently                                                                               597 non-null object\n",
      "InstituteViews. Topic:13. If I had a workplace issue it was dealt with discreetly                                                                                601 non-null object\n",
      "WorkUnitViews. Topic:14. I was satisfied with the quality of the management and supervision within my work unit                                                  609 non-null object\n",
      "WorkUnitViews. Topic:15. I worked well with my colleagues                                                                                                        605 non-null object\n",
      "WorkUnitViews. Topic:16. My job was challenging and interesting                                                                                                  607 non-null object\n",
      "WorkUnitViews. Topic:17. I was encouraged to use my initiative in the course of my work                                                                          610 non-null object\n",
      "WorkUnitViews. Topic:18. I had sufficient contact with other people in my job                                                                                    613 non-null object\n",
      "WorkUnitViews. Topic:19. I was given adequate support and co-operation by my peers to enable me to do my job                                                     609 non-null object\n",
      "WorkUnitViews. Topic:20. I was able to use the full range of my skills in my job                                                                                 609 non-null object\n",
      "WorkUnitViews. Topic:21. I was able to use the full range of my abilities in my job. ; Category:Level of Agreement; Question:YOUR VIEWS ABOUT YOUR WORK UNIT]    608 non-null object\n",
      "WorkUnitViews. Topic:22. I was able to use the full range of my knowledge in my job                                                                              608 non-null object\n",
      "WorkUnitViews. Topic:23. My job provided sufficient variety                                                                                                      611 non-null object\n",
      "WorkUnitViews. Topic:24. I was able to cope with the level of stress and pressure in my job                                                                      610 non-null object\n",
      "WorkUnitViews. Topic:25. My job allowed me to balance the demands of work and family to my satisfaction                                                          611 non-null object\n",
      "WorkUnitViews. Topic:26. My supervisor gave me adequate personal recognition and feedback on my performance                                                      606 non-null object\n",
      "WorkUnitViews. Topic:27. My working environment was satisfactory e.g. sufficient space, good lighting, suitable seating and working area                         610 non-null object\n",
      "WorkUnitViews. Topic:28. I was given the opportunity to mentor and coach others in order for me to pass on my skills and knowledge prior to my cessation date    609 non-null object\n",
      "WorkUnitViews. Topic:29. There was adequate communication between staff in my unit                                                                               603 non-null object\n",
      "WorkUnitViews. Topic:30. Staff morale was positive within my work unit                                                                                           606 non-null object\n",
      "Induction. Did you undertake Workplace Induction?                                                                                                                619 non-null object\n",
      "InductionInfo. Topic:Did you undertake a Corporate Induction?                                                                                                    432 non-null object\n",
      "InductionInfo. Topic:Did you undertake a Institute Induction?                                                                                                    483 non-null object\n",
      "InductionInfo. Topic: Did you undertake Team Induction?                                                                                                          440 non-null object\n",
      "InductionInfo. Face to Face Topic:Did you undertake a Corporate Induction; Category:How it was conducted?                                                        555 non-null object\n",
      "InductionInfo. On-line Topic:Did you undertake a Corporate Induction; Category:How it was conducted?                                                             555 non-null object\n",
      "InductionInfo. Induction Manual Topic:Did you undertake a Corporate Induction?                                                                                   555 non-null object\n",
      "InductionInfo. Face to Face Topic:Did you undertake a Institute Induction?                                                                                       530 non-null object\n",
      "InductionInfo. On-line Topic:Did you undertake a Institute Induction?                                                                                            555 non-null object\n",
      "InductionInfo. Induction Manual Topic:Did you undertake a Institute Induction?                                                                                   553 non-null object\n",
      "InductionInfo. Face to Face Topic: Did you undertake Team Induction; Category?                                                                                   555 non-null object\n",
      "InductionInfo. On-line Topic: Did you undertake Team Induction?process you undertook and how it was conducted.]                                                  555 non-null object\n",
      "InductionInfo. Induction Manual Topic: Did you undertake Team Induction?                                                                                         555 non-null object\n",
      "Workplace. Topic:Did you and your Manager develop a Performance and Professional Development Plan (PPDP)?                                                        608 non-null object\n",
      "Workplace. Topic:Does your workplace promote a work culture free from all forms of unlawful discrimination?                                                      594 non-null object\n",
      "Workplace. Topic:Does your workplace promote and practice the principles of employment equity?                                                                   587 non-null object\n",
      "Workplace. Topic:Does your workplace value the diversity of its employees?                                                                                       586 non-null object\n",
      "Workplace. Topic:Would you recommend the Institute as an employer to others?                                                                                     581 non-null object\n",
      "Gender. What is your Gender?                                                                                                                                     596 non-null object\n",
      "CurrentAge. Current Age                                                                                                                                          596 non-null object\n",
      "Employment Type. Employment Type                                                                                                                                 596 non-null object\n",
      "Classification. Classification                                                                                                                                   596 non-null object\n",
      "LengthofServiceOverall. Overall Length of Service at Institute (in years)                                                                                        596 non-null object\n",
      "LengthofServiceCurrent. Length of Service at current workplace (in years)                                                                                        596 non-null object\n",
      "dtypes: float64(2), object(70)\n",
      "memory usage: 395.0+ KB\n",
      "\n",
      "\n",
      "TAFE Exit Survey Data Sample: \n",
      "\n",
      "      Record ID                              Institute  \\\n",
      "0  6.341330e+17  Southern Queensland Institute of TAFE   \n",
      "1  6.341337e+17            Mount Isa Institute of TAFE   \n",
      "2  6.341388e+17            Mount Isa Institute of TAFE   \n",
      "3  6.341399e+17            Mount Isa Institute of TAFE   \n",
      "4  6.341466e+17  Southern Queensland Institute of TAFE   \n",
      "\n",
      "                   WorkArea  CESSATION YEAR Reason for ceasing employment  \\\n",
      "0  Non-Delivery (corporate)          2010.0              Contract Expired   \n",
      "1  Non-Delivery (corporate)          2010.0                    Retirement   \n",
      "2       Delivery (teaching)          2010.0                    Retirement   \n",
      "3  Non-Delivery (corporate)          2010.0                   Resignation   \n",
      "4       Delivery (teaching)          2010.0                   Resignation   \n",
      "\n",
      "  Contributing Factors. Career Move - Public Sector   \\\n",
      "0                                                NaN   \n",
      "1                                                  -   \n",
      "2                                                  -   \n",
      "3                                                  -   \n",
      "4                                                  -   \n",
      "\n",
      "  Contributing Factors. Career Move - Private Sector   \\\n",
      "0                                                NaN    \n",
      "1                                                  -    \n",
      "2                                                  -    \n",
      "3                                                  -    \n",
      "4                       Career Move - Private Sector    \n",
      "\n",
      "  Contributing Factors. Career Move - Self-employment  \\\n",
      "0                                                NaN    \n",
      "1                                                  -    \n",
      "2                                                  -    \n",
      "3                                                  -    \n",
      "4                                                  -    \n",
      "\n",
      "  Contributing Factors. Ill Health Contributing Factors. Maternity/Family  \\\n",
      "0                              NaN                                    NaN   \n",
      "1                                -                                      -   \n",
      "2                                -                                      -   \n",
      "3                                -                                      -   \n",
      "4                                -                                      -   \n",
      "\n",
      "  Contributing Factors. Dissatisfaction  \\\n",
      "0                                   NaN   \n",
      "1                                     -   \n",
      "2                                     -   \n",
      "3                                     -   \n",
      "4                                     -   \n",
      "\n",
      "  Contributing Factors. Job Dissatisfaction  \\\n",
      "0                                       NaN   \n",
      "1                                         -   \n",
      "2                                         -   \n",
      "3                                         -   \n",
      "4                                         -   \n",
      "\n",
      "  Contributing Factors. Interpersonal Conflict Contributing Factors. Study  \\\n",
      "0                                          NaN                         NaN   \n",
      "1                                            -                           -   \n",
      "2                                            -                           -   \n",
      "3                                            -                           -   \n",
      "4                                            -                           -   \n",
      "\n",
      "  Contributing Factors. Travel Contributing Factors. Other  \\\n",
      "0                          NaN                         NaN   \n",
      "1                       Travel                           -   \n",
      "2                            -                           -   \n",
      "3                       Travel                           -   \n",
      "4                            -                           -   \n",
      "\n",
      "  Contributing Factors. NONE  \\\n",
      "0                        NaN   \n",
      "1                          -   \n",
      "2                       NONE   \n",
      "3                          -   \n",
      "4                          -   \n",
      "\n",
      "  Main Factor. Which of these was the main factor for leaving?  \\\n",
      "0                                                NaN             \n",
      "1                                                NaN             \n",
      "2                                                NaN             \n",
      "3                                                NaN             \n",
      "4                                                NaN             \n",
      "\n",
      "  InstituteViews. Topic:1. I feel the senior leadership had a clear vision and direction  \\\n",
      "0                                              Agree                                       \n",
      "1                                              Agree                                       \n",
      "2                                              Agree                                       \n",
      "3                                              Agree                                       \n",
      "4                                              Agree                                       \n",
      "\n",
      "  InstituteViews. Topic:2. I was given access to skills training to help me do my job better  \\\n",
      "0                                              Agree                                           \n",
      "1                                              Agree                                           \n",
      "2                                              Agree                                           \n",
      "3                                              Agree                                           \n",
      "4                                              Agree                                           \n",
      "\n",
      "  InstituteViews. Topic:3. I was given adequate opportunities for personal development  \\\n",
      "0                                              Agree                                     \n",
      "1                                              Agree                                     \n",
      "2                                              Agree                                     \n",
      "3                                              Agree                                     \n",
      "4                                     Strongly Agree                                     \n",
      "\n",
      "  InstituteViews. Topic:4. I was given adequate opportunities for promotion within %Institute]Q25LBL%  \\\n",
      "0                                            Neutral                                                    \n",
      "1                                              Agree                                                    \n",
      "2                                              Agree                                                    \n",
      "3                                              Agree                                                    \n",
      "4                                              Agree                                                    \n",
      "\n",
      "  InstituteViews. Topic:5. I felt the salary for the job was right for the responsibilities I had  \\\n",
      "0                                              Agree                                                \n",
      "1                                              Agree                                                \n",
      "2                                              Agree                                                \n",
      "3                                              Agree                                                \n",
      "4                                     Strongly Agree                                                \n",
      "\n",
      "  InstituteViews. Topic:6. The organisation recognised when staff did good work  \\\n",
      "0                                              Agree                              \n",
      "1                                     Strongly Agree                              \n",
      "2                                              Agree                              \n",
      "3                                              Agree                              \n",
      "4                                     Strongly Agree                              \n",
      "\n",
      "  InstituteViews. Topic:7. Management was generally supportive of me  \\\n",
      "0                                              Agree                   \n",
      "1                                     Strongly Agree                   \n",
      "2                                     Strongly Agree                   \n",
      "3                                              Agree                   \n",
      "4                                     Strongly Agree                   \n",
      "\n",
      "  InstituteViews. Topic:8. Management was generally supportive of my team  \\\n",
      "0                                              Agree                        \n",
      "1                                              Agree                        \n",
      "2                                              Agree                        \n",
      "3                                              Agree                        \n",
      "4                                     Strongly Agree                        \n",
      "\n",
      "  InstituteViews. Topic:9. I was kept informed of the changes in the organisation which would affect me  \\\n",
      "0                                              Agree                                                      \n",
      "1                                     Strongly Agree                                                      \n",
      "2                                              Agree                                                      \n",
      "3                                              Agree                                                      \n",
      "4                                              Agree                                                      \n",
      "\n",
      "  InstituteViews. Topic:10. Staff morale was positive within the Institute  \\\n",
      "0                                              Agree                         \n",
      "1                                              Agree                         \n",
      "2                                              Agree                         \n",
      "3                                              Agree                         \n",
      "4                                     Strongly Agree                         \n",
      "\n",
      "  InstituteViews. Topic:11. If I had a workplace issue it was dealt with quickly  \\\n",
      "0                                              Agree                               \n",
      "1                                              Agree                               \n",
      "2                                              Agree                               \n",
      "3                                              Agree                               \n",
      "4                                     Strongly Agree                               \n",
      "\n",
      "  InstituteViews. Topic:12. If I had a workplace issue it was dealt with efficiently  \\\n",
      "0                                              Agree                                   \n",
      "1                                              Agree                                   \n",
      "2                                            Neutral                                   \n",
      "3                                              Agree                                   \n",
      "4                                              Agree                                   \n",
      "\n",
      "  InstituteViews. Topic:13. If I had a workplace issue it was dealt with discreetly  \\\n",
      "0                                              Agree                                  \n",
      "1                                           Disagree                                  \n",
      "2                                            Neutral                                  \n",
      "3                                              Agree                                  \n",
      "4                                     Strongly Agree                                  \n",
      "\n",
      "  WorkUnitViews. Topic:14. I was satisfied with the quality of the management and supervision within my work unit  \\\n",
      "0                                              Agree                                                                \n",
      "1                                     Strongly Agree                                                                \n",
      "2                                     Strongly Agree                                                                \n",
      "3                                     Strongly Agree                                                                \n",
      "4                                     Strongly Agree                                                                \n",
      "\n",
      "  WorkUnitViews. Topic:15. I worked well with my colleagues  \\\n",
      "0                                              Agree          \n",
      "1                                     Strongly Agree          \n",
      "2                                     Strongly Agree          \n",
      "3                                     Strongly Agree          \n",
      "4                                     Strongly Agree          \n",
      "\n",
      "  WorkUnitViews. Topic:16. My job was challenging and interesting  \\\n",
      "0                                              Agree                \n",
      "1                                     Strongly Agree                \n",
      "2                                              Agree                \n",
      "3                                     Strongly Agree                \n",
      "4                                     Strongly Agree                \n",
      "\n",
      "  WorkUnitViews. Topic:17. I was encouraged to use my initiative in the course of my work  \\\n",
      "0                                     Strongly Agree                                        \n",
      "1                                              Agree                                        \n",
      "2                                              Agree                                        \n",
      "3                                     Strongly Agree                                        \n",
      "4                                     Strongly Agree                                        \n",
      "\n",
      "  WorkUnitViews. Topic:18. I had sufficient contact with other people in my job  \\\n",
      "0                                              Agree                              \n",
      "1                                              Agree                              \n",
      "2                                              Agree                              \n",
      "3                                     Strongly Agree                              \n",
      "4                                     Strongly Agree                              \n",
      "\n",
      "  WorkUnitViews. Topic:19. I was given adequate support and co-operation by my peers to enable me to do my job  \\\n",
      "0                                              Agree                                                             \n",
      "1                                              Agree                                                             \n",
      "2                                              Agree                                                             \n",
      "3                                     Strongly Agree                                                             \n",
      "4                                     Strongly Agree                                                             \n",
      "\n",
      "  WorkUnitViews. Topic:20. I was able to use the full range of my skills in my job  \\\n",
      "0                                              Agree                                 \n",
      "1                                     Strongly Agree                                 \n",
      "2                                              Agree                                 \n",
      "3                                     Strongly Agree                                 \n",
      "4                                     Strongly Agree                                 \n",
      "\n",
      "  WorkUnitViews. Topic:21. I was able to use the full range of my abilities in my job. ; Category:Level of Agreement; Question:YOUR VIEWS ABOUT YOUR WORK UNIT]  \\\n",
      "0                                              Agree                                                                                                              \n",
      "1                                              Agree                                                                                                              \n",
      "2                                              Agree                                                                                                              \n",
      "3                                     Strongly Agree                                                                                                              \n",
      "4                                     Strongly Agree                                                                                                              \n",
      "\n",
      "  WorkUnitViews. Topic:22. I was able to use the full range of my knowledge in my job  \\\n",
      "0                                              Agree                                    \n",
      "1                                              Agree                                    \n",
      "2                                              Agree                                    \n",
      "3                                     Strongly Agree                                    \n",
      "4                                     Strongly Agree                                    \n",
      "\n",
      "  WorkUnitViews. Topic:23. My job provided sufficient variety  \\\n",
      "0                                              Agree            \n",
      "1                                              Agree            \n",
      "2                                              Agree            \n",
      "3                                     Strongly Agree            \n",
      "4                                     Strongly Agree            \n",
      "\n",
      "  WorkUnitViews. Topic:24. I was able to cope with the level of stress and pressure in my job  \\\n",
      "0                                              Agree                                            \n",
      "1                                     Strongly Agree                                            \n",
      "2                                              Agree                                            \n",
      "3                                     Strongly Agree                                            \n",
      "4                                     Strongly Agree                                            \n",
      "\n",
      "  WorkUnitViews. Topic:25. My job allowed me to balance the demands of work and family to my satisfaction  \\\n",
      "0                                              Agree                                                        \n",
      "1                                              Agree                                                        \n",
      "2                                              Agree                                                        \n",
      "3                                     Strongly Agree                                                        \n",
      "4                                     Strongly Agree                                                        \n",
      "\n",
      "  WorkUnitViews. Topic:26. My supervisor gave me adequate personal recognition and feedback on my performance  \\\n",
      "0                                              Agree                                                            \n",
      "1                                     Strongly Agree                                                            \n",
      "2                                              Agree                                                            \n",
      "3                                     Strongly Agree                                                            \n",
      "4                                     Strongly Agree                                                            \n",
      "\n",
      "  WorkUnitViews. Topic:27. My working environment was satisfactory e.g. sufficient space, good lighting, suitable seating and working area  \\\n",
      "0                                              Agree                                                                                         \n",
      "1                                     Strongly Agree                                                                                         \n",
      "2                                              Agree                                                                                         \n",
      "3                                     Strongly Agree                                                                                         \n",
      "4                                     Strongly Agree                                                                                         \n",
      "\n",
      "  WorkUnitViews. Topic:28. I was given the opportunity to mentor and coach others in order for me to pass on my skills and knowledge prior to my cessation date  \\\n",
      "0                                            Neutral                                                                                                              \n",
      "1                                              Agree                                                                                                              \n",
      "2                                              Agree                                                                                                              \n",
      "3                                     Strongly Agree                                                                                                              \n",
      "4                                     Strongly Agree                                                                                                              \n",
      "\n",
      "  WorkUnitViews. Topic:29. There was adequate communication between staff in my unit  \\\n",
      "0                                              Agree                                   \n",
      "1                                              Agree                                   \n",
      "2                                              Agree                                   \n",
      "3                                     Strongly Agree                                   \n",
      "4                                     Strongly Agree                                   \n",
      "\n",
      "  WorkUnitViews. Topic:30. Staff morale was positive within my work unit  \\\n",
      "0                                              Agree                       \n",
      "1                                     Strongly Agree                       \n",
      "2                                              Agree                       \n",
      "3                                     Strongly Agree                       \n",
      "4                                     Strongly Agree                       \n",
      "\n",
      "  Induction. Did you undertake Workplace Induction?  \\\n",
      "0                                               Yes   \n",
      "1                                                No   \n",
      "2                                                No   \n",
      "3                                               Yes   \n",
      "4                                               Yes   \n",
      "\n",
      "  InductionInfo. Topic:Did you undertake a Corporate Induction?  \\\n",
      "0                                                Yes              \n",
      "1                                                NaN              \n",
      "2                                                NaN              \n",
      "3                                                 No              \n",
      "4                                                Yes              \n",
      "\n",
      "  InductionInfo. Topic:Did you undertake a Institute Induction?  \\\n",
      "0                                                Yes              \n",
      "1                                                NaN              \n",
      "2                                                NaN              \n",
      "3                                                Yes              \n",
      "4                                                Yes              \n",
      "\n",
      "  InductionInfo. Topic: Did you undertake Team Induction?  \\\n",
      "0                                                Yes        \n",
      "1                                                NaN        \n",
      "2                                                NaN        \n",
      "3                                                Yes        \n",
      "4                                                Yes        \n",
      "\n",
      "  InductionInfo. Face to Face Topic:Did you undertake a Corporate Induction; Category:How it was conducted?  \\\n",
      "0                                       Face to Face                                                          \n",
      "1                                                NaN                                                          \n",
      "2                                                NaN                                                          \n",
      "3                                                  -                                                          \n",
      "4                                                  -                                                          \n",
      "\n",
      "  InductionInfo. On-line Topic:Did you undertake a Corporate Induction; Category:How it was conducted?  \\\n",
      "0                                                  -                                                     \n",
      "1                                                NaN                                                     \n",
      "2                                                NaN                                                     \n",
      "3                                                  -                                                     \n",
      "4                                                  -                                                     \n",
      "\n",
      "  InductionInfo. Induction Manual Topic:Did you undertake a Corporate Induction?  \\\n",
      "0                                                  -                               \n",
      "1                                                NaN                               \n",
      "2                                                NaN                               \n",
      "3                                                  -                               \n",
      "4                                   Induction Manual                               \n",
      "\n",
      "  InductionInfo. Face to Face Topic:Did you undertake a Institute Induction?  \\\n",
      "0                                       Face to Face                           \n",
      "1                                                NaN                           \n",
      "2                                                NaN                           \n",
      "3                                                NaN                           \n",
      "4                                       Face to Face                           \n",
      "\n",
      "  InductionInfo. On-line Topic:Did you undertake a Institute Induction?  \\\n",
      "0                                                  -                      \n",
      "1                                                NaN                      \n",
      "2                                                NaN                      \n",
      "3                                                  -                      \n",
      "4                                                  -                      \n",
      "\n",
      "  InductionInfo. Induction Manual Topic:Did you undertake a Institute Induction?  \\\n",
      "0                                                  -                               \n",
      "1                                                NaN                               \n",
      "2                                                NaN                               \n",
      "3                                                  -                               \n",
      "4                                                  -                               \n",
      "\n",
      "  InductionInfo. Face to Face Topic: Did you undertake Team Induction; Category?  \\\n",
      "0                                       Face to Face                               \n",
      "1                                                NaN                               \n",
      "2                                                NaN                               \n",
      "3                                                  -                               \n",
      "4                                       Face to Face                               \n",
      "\n",
      "  InductionInfo. On-line Topic: Did you undertake Team Induction?process you undertook and how it was conducted.]  \\\n",
      "0                                                  -                                                                \n",
      "1                                                NaN                                                                \n",
      "2                                                NaN                                                                \n",
      "3                                                  -                                                                \n",
      "4                                                  -                                                                \n",
      "\n",
      "  InductionInfo. Induction Manual Topic: Did you undertake Team Induction?  \\\n",
      "0                                                  -                         \n",
      "1                                                NaN                         \n",
      "2                                                NaN                         \n",
      "3                                                  -                         \n",
      "4                                                  -                         \n",
      "\n",
      "  Workplace. Topic:Did you and your Manager develop a Performance and Professional Development Plan (PPDP)?  \\\n",
      "0                                                Yes                                                          \n",
      "1                                                Yes                                                          \n",
      "2                                                Yes                                                          \n",
      "3                                                Yes                                                          \n",
      "4                                                Yes                                                          \n",
      "\n",
      "  Workplace. Topic:Does your workplace promote a work culture free from all forms of unlawful discrimination?  \\\n",
      "0                                                Yes                                                            \n",
      "1                                                Yes                                                            \n",
      "2                                                Yes                                                            \n",
      "3                                                Yes                                                            \n",
      "4                                                Yes                                                            \n",
      "\n",
      "  Workplace. Topic:Does your workplace promote and practice the principles of employment equity?  \\\n",
      "0                                                Yes                                               \n",
      "1                                                Yes                                               \n",
      "2                                                Yes                                               \n",
      "3                                                Yes                                               \n",
      "4                                                Yes                                               \n",
      "\n",
      "  Workplace. Topic:Does your workplace value the diversity of its employees?  \\\n",
      "0                                                Yes                           \n",
      "1                                                Yes                           \n",
      "2                                                Yes                           \n",
      "3                                                Yes                           \n",
      "4                                                Yes                           \n",
      "\n",
      "  Workplace. Topic:Would you recommend the Institute as an employer to others?  \\\n",
      "0                                                Yes                             \n",
      "1                                                Yes                             \n",
      "2                                                Yes                             \n",
      "3                                                Yes                             \n",
      "4                                                Yes                             \n",
      "\n",
      "  Gender. What is your Gender? CurrentAge. Current Age  \\\n",
      "0                       Female                  26  30   \n",
      "1                          NaN                     NaN   \n",
      "2                          NaN                     NaN   \n",
      "3                          NaN                     NaN   \n",
      "4                         Male                  41  45   \n",
      "\n",
      "  Employment Type. Employment Type Classification. Classification  \\\n",
      "0              Temporary Full-time            Administration (AO)   \n",
      "1                              NaN                            NaN   \n",
      "2                              NaN                            NaN   \n",
      "3                              NaN                            NaN   \n",
      "4              Permanent Full-time        Teacher (including LVT)   \n",
      "\n",
      "  LengthofServiceOverall. Overall Length of Service at Institute (in years)  \\\n",
      "0                                                1-2                          \n",
      "1                                                NaN                          \n",
      "2                                                NaN                          \n",
      "3                                                NaN                          \n",
      "4                                                3-4                          \n",
      "\n",
      "  LengthofServiceCurrent. Length of Service at current workplace (in years)  \n",
      "0                                                1-2                         \n",
      "1                                                NaN                         \n",
      "2                                                NaN                         \n",
      "3                                                NaN                         \n",
      "4                                                3-4                         \n",
      "\n",
      "\n",
      "TAFE Exit Survey Column null value counts: \n",
      "\n",
      "Record ID                                                                                                                                                          0\n",
      "Institute                                                                                                                                                          0\n",
      "WorkArea                                                                                                                                                           0\n",
      "CESSATION YEAR                                                                                                                                                     7\n",
      "Reason for ceasing employment                                                                                                                                      1\n",
      "Contributing Factors. Career Move - Public Sector                                                                                                                265\n",
      "Contributing Factors. Career Move - Private Sector                                                                                                               265\n",
      "Contributing Factors. Career Move - Self-employment                                                                                                              265\n",
      "Contributing Factors. Ill Health                                                                                                                                 265\n",
      "Contributing Factors. Maternity/Family                                                                                                                           265\n",
      "Contributing Factors. Dissatisfaction                                                                                                                            265\n",
      "Contributing Factors. Job Dissatisfaction                                                                                                                        265\n",
      "Contributing Factors. Interpersonal Conflict                                                                                                                     265\n",
      "Contributing Factors. Study                                                                                                                                      265\n",
      "Contributing Factors. Travel                                                                                                                                     265\n",
      "Contributing Factors. Other                                                                                                                                      265\n",
      "Contributing Factors. NONE                                                                                                                                       265\n",
      "Main Factor. Which of these was the main factor for leaving?                                                                                                     589\n",
      "InstituteViews. Topic:1. I feel the senior leadership had a clear vision and direction                                                                            94\n",
      "InstituteViews. Topic:2. I was given access to skills training to help me do my job better                                                                        89\n",
      "InstituteViews. Topic:3. I was given adequate opportunities for personal development                                                                              92\n",
      "InstituteViews. Topic:4. I was given adequate opportunities for promotion within %Institute]Q25LBL%                                                               94\n",
      "InstituteViews. Topic:5. I felt the salary for the job was right for the responsibilities I had                                                                   87\n",
      "InstituteViews. Topic:6. The organisation recognised when staff did good work                                                                                     95\n",
      "InstituteViews. Topic:7. Management was generally supportive of me                                                                                                88\n",
      "InstituteViews. Topic:8. Management was generally supportive of my team                                                                                           94\n",
      "InstituteViews. Topic:9. I was kept informed of the changes in the organisation which would affect me                                                             92\n",
      "InstituteViews. Topic:10. Staff morale was positive within the Institute                                                                                         100\n",
      "InstituteViews. Topic:11. If I had a workplace issue it was dealt with quickly                                                                                   101\n",
      "InstituteViews. Topic:12. If I had a workplace issue it was dealt with efficiently                                                                               105\n",
      "                                                                                                                                                                ... \n",
      "WorkUnitViews. Topic:25. My job allowed me to balance the demands of work and family to my satisfaction                                                           91\n",
      "WorkUnitViews. Topic:26. My supervisor gave me adequate personal recognition and feedback on my performance                                                       96\n",
      "WorkUnitViews. Topic:27. My working environment was satisfactory e.g. sufficient space, good lighting, suitable seating and working area                          92\n",
      "WorkUnitViews. Topic:28. I was given the opportunity to mentor and coach others in order for me to pass on my skills and knowledge prior to my cessation date     93\n",
      "WorkUnitViews. Topic:29. There was adequate communication between staff in my unit                                                                                99\n",
      "WorkUnitViews. Topic:30. Staff morale was positive within my work unit                                                                                            96\n",
      "Induction. Did you undertake Workplace Induction?                                                                                                                 83\n",
      "InductionInfo. Topic:Did you undertake a Corporate Induction?                                                                                                    270\n",
      "InductionInfo. Topic:Did you undertake a Institute Induction?                                                                                                    219\n",
      "InductionInfo. Topic: Did you undertake Team Induction?                                                                                                          262\n",
      "InductionInfo. Face to Face Topic:Did you undertake a Corporate Induction; Category:How it was conducted?                                                        147\n",
      "InductionInfo. On-line Topic:Did you undertake a Corporate Induction; Category:How it was conducted?                                                             147\n",
      "InductionInfo. Induction Manual Topic:Did you undertake a Corporate Induction?                                                                                   147\n",
      "InductionInfo. Face to Face Topic:Did you undertake a Institute Induction?                                                                                       172\n",
      "InductionInfo. On-line Topic:Did you undertake a Institute Induction?                                                                                            147\n",
      "InductionInfo. Induction Manual Topic:Did you undertake a Institute Induction?                                                                                   149\n",
      "InductionInfo. Face to Face Topic: Did you undertake Team Induction; Category?                                                                                   147\n",
      "InductionInfo. On-line Topic: Did you undertake Team Induction?process you undertook and how it was conducted.]                                                  147\n",
      "InductionInfo. Induction Manual Topic: Did you undertake Team Induction?                                                                                         147\n",
      "Workplace. Topic:Did you and your Manager develop a Performance and Professional Development Plan (PPDP)?                                                         94\n",
      "Workplace. Topic:Does your workplace promote a work culture free from all forms of unlawful discrimination?                                                      108\n",
      "Workplace. Topic:Does your workplace promote and practice the principles of employment equity?                                                                   115\n",
      "Workplace. Topic:Does your workplace value the diversity of its employees?                                                                                       116\n",
      "Workplace. Topic:Would you recommend the Institute as an employer to others?                                                                                     121\n",
      "Gender. What is your Gender?                                                                                                                                     106\n",
      "CurrentAge. Current Age                                                                                                                                          106\n",
      "Employment Type. Employment Type                                                                                                                                 106\n",
      "Classification. Classification                                                                                                                                   106\n",
      "LengthofServiceOverall. Overall Length of Service at Institute (in years)                                                                                        106\n",
      "LengthofServiceCurrent. Length of Service at current workplace (in years)                                                                                        106\n",
      "Length: 72, dtype: int64\n",
      "\n",
      "\n",
      "TAFE Exit Survey Response value counts: \n",
      "\n",
      "Resignation                 340\n",
      "Contract Expired            127\n",
      "Retrenchment/ Redundancy    104\n",
      "Retirement                   82\n",
      "Transfer                     25\n",
      "Termination                  23\n",
      "Name: Reason for ceasing employment, dtype: int64\n",
      "-                                         371\n",
      "Contributing Factors. Dissatisfaction      66\n",
      "Name: Contributing Factors. Dissatisfaction, dtype: int64\n",
      "-                      360\n",
      "Job Dissatisfaction     77\n",
      "Name: Contributing Factors. Job Dissatisfaction, dtype: int64\n"
     ]
    }
   ],
   "source": [
    "# TAFE Exit Survey\n",
    "print(\"TAFE Exit Survey Info: \\n\")\n",
    "tafe_survey.info()\n",
    "print('\\n')\n",
    "print(\"TAFE Exit Survey Data Sample: \\n\")\n",
    "print(tafe_survey.head(5))\n",
    "print('\\n')\n",
    "print(\"TAFE Exit Survey Column null value counts: \\n\")\n",
    "print(tafe_survey.isnull().sum())\n",
    "print('\\n')\n",
    "print(\"TAFE Exit Survey Response value counts: \\n\")\n",
    "print(tafe_survey[\"Reason for ceasing employment\"].value_counts())\n",
    "print(tafe_survey[\"Contributing Factors. Dissatisfaction\"].value_counts())\n",
    "print(tafe_survey[\"Contributing Factors. Job Dissatisfaction\"].value_counts())"
   ]
  },
  {
   "cell_type": "markdown",
   "metadata": {},
   "source": [
    "Looking at the preliminary exploration results of the 2 surveys, it is quite evident that there are quite a few missing values/NaN's in both datasets.\n",
    "\n",
    "* Some of the NaN values are referred to as \"Not Stated\", this needs to rectified moving forward.\n",
    "* The TAFE survey is more customized compared to the DETE survey, it poses several multiple choice questions to the employees to gauge how content they were with their jobs.\n",
    "* There are a lot of columns available in both surveys. A more in-depth look at the columns would help eliminate columns that would have no bearing on the outcome of the questions we are asking. Some of the columns across both surveys represent the same information under different headings.\n",
    "* Both surveys show that there were a number of employees who resigned due to some form of dissatisfaction with their job."
   ]
  },
  {
   "cell_type": "code",
   "execution_count": 5,
   "metadata": {
    "collapsed": false
   },
   "outputs": [
    {
     "name": "stdout",
     "output_type": "stream",
     "text": [
      "Index(['ID', 'SeparationType', 'Cease Date', 'DETE Start Date',\n",
      "       'Role Start Date', 'Position', 'Classification', 'Region',\n",
      "       'Business Unit', 'Employment Status', 'Career move to public sector',\n",
      "       'Career move to private sector', 'Interpersonal conflicts',\n",
      "       'Job dissatisfaction', 'Dissatisfaction with the department',\n",
      "       'Physical work environment', 'Lack of recognition',\n",
      "       'Lack of job security', 'Work location', 'Employment conditions',\n",
      "       'Maternity/family', 'Relocation', 'Study/Travel', 'Ill Health',\n",
      "       'Traumatic incident', 'Work life balance', 'Workload',\n",
      "       'None of the above', 'Gender', 'Age', 'Aboriginal', 'Torres Strait',\n",
      "       'South Sea', 'Disability', 'NESB'],\n",
      "      dtype='object')\n",
      "Index(['Record ID', 'Institute', 'WorkArea', 'CESSATION YEAR',\n",
      "       'Reason for ceasing employment',\n",
      "       'Contributing Factors. Career Move - Public Sector ',\n",
      "       'Contributing Factors. Career Move - Private Sector ',\n",
      "       'Contributing Factors. Career Move - Self-employment',\n",
      "       'Contributing Factors. Ill Health',\n",
      "       'Contributing Factors. Maternity/Family',\n",
      "       'Contributing Factors. Dissatisfaction',\n",
      "       'Contributing Factors. Job Dissatisfaction',\n",
      "       'Contributing Factors. Interpersonal Conflict',\n",
      "       'Contributing Factors. Study', 'Contributing Factors. Travel',\n",
      "       'Contributing Factors. Other', 'Contributing Factors. NONE',\n",
      "       'Gender. What is your Gender?', 'CurrentAge. Current Age',\n",
      "       'Employment Type. Employment Type', 'Classification. Classification',\n",
      "       'LengthofServiceOverall. Overall Length of Service at Institute (in years)',\n",
      "       'LengthofServiceCurrent. Length of Service at current workplace (in years)'],\n",
      "      dtype='object')\n"
     ]
    }
   ],
   "source": [
    "#To transform 'Not Stated' to NaN\n",
    "dete_survey = pd.read_csv('dete_survey.csv',na_values='Not Stated')\n",
    "\n",
    "#Dropping columns that do not contribute towards our analysis\n",
    "dete_survey_updated = dete_survey.drop(dete_survey.columns[28:49],axis=1)\n",
    "tafe_survey_updated = tafe_survey.drop(tafe_survey.columns[17:66],axis=1)\n",
    "\n",
    "#Check that the columns were dropped\n",
    "print(dete_survey_updated.columns)\n",
    "print(tafe_survey_updated.columns)"
   ]
  },
  {
   "cell_type": "markdown",
   "metadata": {},
   "source": [
    "We noted before that there were several column names across both surveys where the names were different but they represent the same information.\n",
    "\n",
    "| dete_survey | tafe_survey | Definition |\n",
    "|-------------|-------------|------------|\n",
    "| ID          | Record ID   | An id used to identify the participant of the survey |\n",
    "| SeparationType | Reason for ceasing employment | The reason why the participant's employment ended |\n",
    "| Cease Date | CESSATION YEAR | The year or month the participant's employment ended |\n",
    "| Age | CurrentAge.Current Age | The age of the participant |\n",
    "| Gender | Gender.What is your Gender? | The gender of the participant |\n",
    "\n",
    "We modify the column names across the two surveys so that the names and the data represented are the same."
   ]
  },
  {
   "cell_type": "code",
   "execution_count": 6,
   "metadata": {
    "collapsed": false
   },
   "outputs": [
    {
     "data": {
      "text/plain": [
       "Index(['id', 'separationtype', 'cease_date', 'dete_start_date',\n",
       "       'role_start_date', 'position', 'classification', 'region',\n",
       "       'business_unit', 'employment_status', 'career_move_to_public_sector',\n",
       "       'career_move_to_private_sector', 'interpersonal_conflicts',\n",
       "       'job_dissatisfaction', 'dissatisfaction_with_the_department',\n",
       "       'physical_work_environment', 'lack_of_recognition',\n",
       "       'lack_of_job_security', 'work_location', 'employment_conditions',\n",
       "       'maternity/family', 'relocation', 'study/travel', 'ill_health',\n",
       "       'traumatic_incident', 'work_life_balance', 'workload',\n",
       "       'none_of_the_above', 'gender', 'age', 'aboriginal', 'torres_strait',\n",
       "       'south_sea', 'disability', 'nesb'],\n",
       "      dtype='object')"
      ]
     },
     "execution_count": 6,
     "metadata": {},
     "output_type": "execute_result"
    }
   ],
   "source": [
    "#Modify the existing column names to improve readability\n",
    "dete_survey_updated.columns = dete_survey_updated.columns.str.lower().str.strip().str.replace(' ', '_')\n",
    "\n",
    "# Check to see that column names were updated\n",
    "dete_survey_updated.columns"
   ]
  },
  {
   "cell_type": "code",
   "execution_count": 7,
   "metadata": {
    "collapsed": false
   },
   "outputs": [
    {
     "data": {
      "text/plain": [
       "Index(['id', 'Institute', 'WorkArea', 'cease_date', 'separationtype',\n",
       "       'Contributing Factors. Career Move - Public Sector ',\n",
       "       'Contributing Factors. Career Move - Private Sector ',\n",
       "       'Contributing Factors. Career Move - Self-employment',\n",
       "       'Contributing Factors. Ill Health',\n",
       "       'Contributing Factors. Maternity/Family',\n",
       "       'Contributing Factors. Dissatisfaction',\n",
       "       'Contributing Factors. Job Dissatisfaction',\n",
       "       'Contributing Factors. Interpersonal Conflict',\n",
       "       'Contributing Factors. Study', 'Contributing Factors. Travel',\n",
       "       'Contributing Factors. Other', 'Contributing Factors. NONE', 'gender',\n",
       "       'age', 'employment_status', 'position', 'institute_service',\n",
       "       'role_service'],\n",
       "      dtype='object')"
      ]
     },
     "execution_count": 7,
     "metadata": {},
     "output_type": "execute_result"
    }
   ],
   "source": [
    "#Changing column names to match the names in dete_survey_updated\n",
    "maped = {'Record ID': 'id', 'CESSATION YEAR': 'cease_date', 'Reason for ceasing employment': 'separationtype', 'Gender. What is your Gender?': 'gender', 'CurrentAge. Current Age': 'age',\n",
    "       'Employment Type. Employment Type': 'employment_status',\n",
    "       'Classification. Classification': 'position',\n",
    "       'LengthofServiceOverall. Overall Length of Service at Institute (in years)': 'institute_service',\n",
    "       'LengthofServiceCurrent. Length of Service at current workplace (in years)': 'role_service'}\n",
    "tafe_survey_updated = tafe_survey_updated.rename(maped, axis = 1)\n",
    "\n",
    "# Check to see that column names were updated\n",
    "tafe_survey_updated.columns"
   ]
  },
  {
   "cell_type": "markdown",
   "metadata": {},
   "source": [
    "The modified column names will make working with the data easier moving forward and improve readability.\n",
    "\n",
    "Since we are concerned with employees who were dissatisfied with their jobs, the focus should be on the subset of employees who resigned from their positions due to any possible reason."
   ]
  },
  {
   "cell_type": "code",
   "execution_count": 8,
   "metadata": {
    "collapsed": false
   },
   "outputs": [
    {
     "name": "stdout",
     "output_type": "stream",
     "text": [
      "DETE Survey: \n",
      "\n",
      "Age Retirement                          285\n",
      "Resignation-Other reasons               150\n",
      "Resignation-Other employer               91\n",
      "Resignation-Move overseas/interstate     70\n",
      "Voluntary Early Retirement (VER)         67\n",
      "Ill Health Retirement                    61\n",
      "Other                                    49\n",
      "Contract Expired                         34\n",
      "Termination                              15\n",
      "Name: separationtype, dtype: int64\n",
      "\n",
      "\n",
      "TAFE Survey: \n",
      "\n",
      "Resignation                 340\n",
      "Contract Expired            127\n",
      "Retrenchment/ Redundancy    104\n",
      "Retirement                   82\n",
      "Transfer                     25\n",
      "Termination                  23\n",
      "Name: separationtype, dtype: int64\n"
     ]
    }
   ],
   "source": [
    "#Reasons employees left DETE and TAFE\n",
    "print('DETE Survey: \\n')\n",
    "print(dete_survey_updated['separationtype']\n",
    "      .value_counts())\n",
    "print('\\n')\n",
    "print('TAFE Survey: \\n')\n",
    "print(tafe_survey_updated['separationtype'].value_counts())"
   ]
  },
  {
   "cell_type": "code",
   "execution_count": 9,
   "metadata": {
    "collapsed": false
   },
   "outputs": [
    {
     "name": "stdout",
     "output_type": "stream",
     "text": [
      "(311, 35)\n",
      "(340, 23)\n"
     ]
    }
   ],
   "source": [
    "#Modifying the multiple \"Resignation-...\" types in DETE survey into the same designation\n",
    "dete_survey_updated['separationtype'] = (dete_survey_updated['separationtype']\n",
    "                                         .str.split('-').str[0])\n",
    "\n",
    "#Isolating the employees who resigned\n",
    "dete_resignations = dete_survey_updated[dete_survey_updated['separationtype'] == 'Resignation']\n",
    "tafe_resignations = tafe_survey_updated[tafe_survey_updated['separationtype'] == 'Resignation']\n",
    "\n",
    "print(dete_resignations.shape)\n",
    "print(tafe_resignations.shape)"
   ]
  },
  {
   "cell_type": "code",
   "execution_count": 10,
   "metadata": {
    "collapsed": false
   },
   "outputs": [
    {
     "name": "stdout",
     "output_type": "stream",
     "text": [
      "1963.0     1\n",
      "1971.0     1\n",
      "1972.0     1\n",
      "1973.0     1\n",
      "1974.0     2\n",
      "1975.0     1\n",
      "1976.0     2\n",
      "1977.0     1\n",
      "1980.0     5\n",
      "1982.0     1\n",
      "1983.0     2\n",
      "1984.0     1\n",
      "1985.0     3\n",
      "1986.0     3\n",
      "1987.0     1\n",
      "1988.0     4\n",
      "1989.0     4\n",
      "1990.0     5\n",
      "1991.0     4\n",
      "1992.0     6\n",
      "1993.0     5\n",
      "1994.0     6\n",
      "1995.0     4\n",
      "1996.0     6\n",
      "1997.0     5\n",
      "1998.0     6\n",
      "1999.0     8\n",
      "2000.0     9\n",
      "2001.0     3\n",
      "2002.0     6\n",
      "2003.0     6\n",
      "2004.0    14\n",
      "2005.0    15\n",
      "2006.0    13\n",
      "2007.0    21\n",
      "2008.0    22\n",
      "2009.0    13\n",
      "2010.0    17\n",
      "2011.0    24\n",
      "2012.0    21\n",
      "2013.0    10\n",
      "Name: dete_start_date, dtype: int64\n",
      "\n",
      "\n",
      "01/2014     22\n",
      "05/2012      2\n",
      "05/2013      2\n",
      "06/2013     14\n",
      "07/2006      1\n",
      "07/2012      1\n",
      "07/2013      9\n",
      "08/2013      4\n",
      "09/2010      1\n",
      "09/2013     11\n",
      "10/2013      6\n",
      "11/2013      9\n",
      "12/2013     17\n",
      "2010         1\n",
      "2012       126\n",
      "2013        74\n",
      "Name: cease_date, dtype: int64\n",
      "\n",
      "\n",
      "2009.0      2\n",
      "2010.0     68\n",
      "2011.0    116\n",
      "2012.0     94\n",
      "2013.0     55\n",
      "Name: cease_date, dtype: int64\n"
     ]
    }
   ],
   "source": [
    "#Checking for inconsistencies in the cease_date for both surveys\n",
    "print(dete_resignations['dete_start_date'].value_counts().sort_index(ascending=True))\n",
    "print('\\n')\n",
    "print(dete_resignations['cease_date'].value_counts().sort_index(ascending=True))\n",
    "print('\\n')\n",
    "print(tafe_resignations['cease_date'].value_counts().sort_index(ascending=True))"
   ]
  },
  {
   "cell_type": "code",
   "execution_count": 11,
   "metadata": {
    "collapsed": false,
    "scrolled": false
   },
   "outputs": [
    {
     "name": "stdout",
     "output_type": "stream",
     "text": [
      "2013.0    146\n",
      "2012.0    129\n",
      "2014.0     22\n",
      "2010.0      2\n",
      "2006.0      1\n",
      "Name: cease_date, dtype: int64\n"
     ]
    },
    {
     "name": "stderr",
     "output_type": "stream",
     "text": [
      "/dataquest/system/env/python3/lib/python3.4/site-packages/ipykernel/__main__.py:2: FutureWarning:\n",
      "\n",
      "currently extract(expand=None) means expand=False (return Index/Series/DataFrame) but in a future version of pandas this will be changed to expand=True (return DataFrame)\n",
      "\n",
      "/dataquest/system/env/python3/lib/python3.4/site-packages/ipykernel/__main__.py:2: SettingWithCopyWarning:\n",
      "\n",
      "\n",
      "A value is trying to be set on a copy of a slice from a DataFrame.\n",
      "Try using .loc[row_indexer,col_indexer] = value instead\n",
      "\n",
      "See the caveats in the documentation: http://pandas.pydata.org/pandas-docs/stable/indexing.html#indexing-view-versus-copy\n",
      "\n"
     ]
    }
   ],
   "source": [
    "#For better consistency we extract the year value from the cease date column as float values\n",
    "dete_resignations[\"cease_date\"] = dete_resignations[\"cease_date\"].str.extract(r\"([1-2][0-9]{3})\").astype(\"float\")\n",
    "print(dete_resignations[\"cease_date\"].value_counts())"
   ]
  },
  {
   "cell_type": "code",
   "execution_count": 12,
   "metadata": {
    "collapsed": false
   },
   "outputs": [
    {
     "name": "stdout",
     "output_type": "stream",
     "text": [
      "Axes(0.125,0.125;0.775x0.775)\n"
     ]
    },
    {
     "data": {
      "image/png": "[encoded data removed]",
      "text/plain": [
       "<matplotlib.figure.Figure at 0x7fa892228c18>"
      ]
     },
     "metadata": {},
     "output_type": "display_data"
    }
   ],
   "source": [
    "print(dete_resignations.boxplot(column=\"dete_start_date\"))"
   ]
  },
  {
   "cell_type": "code",
   "execution_count": 13,
   "metadata": {
    "collapsed": false
   },
   "outputs": [
    {
     "name": "stdout",
     "output_type": "stream",
     "text": [
      "Axes(0.125,0.125;0.775x0.775)\n"
     ]
    },
    {
     "data": {
      "image/png": "[encoded data removed]",
      "text/plain": [
       "<matplotlib.figure.Figure at 0x7fa89020a2b0>"
      ]
     },
     "metadata": {},
     "output_type": "display_data"
    }
   ],
   "source": [
    "print(dete_resignations.boxplot(column=\"cease_date\"))"
   ]
  },
  {
   "cell_type": "code",
   "execution_count": 14,
   "metadata": {
    "collapsed": false
   },
   "outputs": [
    {
     "name": "stdout",
     "output_type": "stream",
     "text": [
      "Axes(0.125,0.125;0.775x0.775)\n"
     ]
    },
    {
     "data": {
      "image/png": "[encoded data removed]",
      "text/plain": [
       "<matplotlib.figure.Figure at 0x7fa89019aef0>"
      ]
     },
     "metadata": {},
     "output_type": "display_data"
    }
   ],
   "source": [
    "print(tafe_resignations.boxplot(column=\"cease_date\"))"
   ]
  },
  {
   "cell_type": "markdown",
   "metadata": {},
   "source": [
    "There don't appear to be any outrightly visible inconsistencies with the dates in both sets of data. We can make note of a few things:\n",
    "\n",
    "* The number of people joining DETE has seen a sharp increase from 2004 onwards.\n",
    "* 2012 and 2013 saw more than 200+ employees leave DETE.\n",
    "* TAFE observed a lot of resignations 2010 onwards, there was a significant spike from only 2 resignations in 2009 to 68 in 2010.\n",
    "* The DETE survey does not have any resignations in 2011. This could be an error.\n",
    "* TAFE did not see any resignations after 2013.\n",
    "\n",
    "The boxplots for the dates do not show any visible outliers. The years in each survey are not identical, but that should not pose an issue as we are looking at the broader issue of workplace dissatisfaction."
   ]
  },
  {
   "cell_type": "code",
   "execution_count": 15,
   "metadata": {
    "collapsed": false
   },
   "outputs": [
    {
     "name": "stdout",
     "output_type": "stream",
     "text": [
      "5.0     23\n",
      "1.0     22\n",
      "3.0     20\n",
      "0.0     20\n",
      "6.0     17\n",
      "4.0     16\n",
      "9.0     14\n",
      "2.0     14\n",
      "7.0     13\n",
      "13.0     8\n",
      "8.0      8\n",
      "20.0     7\n",
      "15.0     7\n",
      "10.0     6\n",
      "22.0     6\n",
      "14.0     6\n",
      "17.0     6\n",
      "12.0     6\n",
      "16.0     5\n",
      "18.0     5\n",
      "23.0     4\n",
      "11.0     4\n",
      "24.0     4\n",
      "39.0     3\n",
      "19.0     3\n",
      "21.0     3\n",
      "32.0     3\n",
      "28.0     2\n",
      "26.0     2\n",
      "25.0     2\n",
      "30.0     2\n",
      "36.0     2\n",
      "29.0     1\n",
      "33.0     1\n",
      "42.0     1\n",
      "27.0     1\n",
      "41.0     1\n",
      "35.0     1\n",
      "38.0     1\n",
      "34.0     1\n",
      "49.0     1\n",
      "31.0     1\n",
      "Name: institute_service, dtype: int64\n",
      "Axes(0.125,0.125;0.775x0.775)\n"
     ]
    },
    {
     "name": "stderr",
     "output_type": "stream",
     "text": [
      "/dataquest/system/env/python3/lib/python3.4/site-packages/ipykernel/__main__.py:3: SettingWithCopyWarning:\n",
      "\n",
      "\n",
      "A value is trying to be set on a copy of a slice from a DataFrame.\n",
      "Try using .loc[row_indexer,col_indexer] = value instead\n",
      "\n",
      "See the caveats in the documentation: http://pandas.pydata.org/pandas-docs/stable/indexing.html#indexing-view-versus-copy\n",
      "\n"
     ]
    },
    {
     "data": {
      "image/png": "[encoded data removed]",
      "text/plain": [
       "<matplotlib.figure.Figure at 0x7fa890075588>"
      ]
     },
     "metadata": {},
     "output_type": "display_data"
    }
   ],
   "source": [
    "#Calculating the service years for DETE employees\n",
    "dete_resignations[\"institute_service\"] = (dete_resignations[\"cease_date\"]\n",
    "                                          -dete_resignations[\"dete_start_date\"])\n",
    "print(dete_resignations[\"institute_service\"].value_counts())\n",
    "print(dete_resignations.boxplot(column=\"institute_service\"))"
   ]
  },
  {
   "cell_type": "code",
   "execution_count": 16,
   "metadata": {
    "collapsed": false
   },
   "outputs": [
    {
     "name": "stdout",
     "output_type": "stream",
     "text": [
      "Less than 1 year      73\n",
      "1-2                   64\n",
      "3-4                   63\n",
      "5-6                   33\n",
      "11-20                 26\n",
      "7-10                  21\n",
      "More than 20 years    10\n",
      "Name: institute_service, dtype: int64\n"
     ]
    }
   ],
   "source": [
    "#TAFE Institute service years\n",
    "print(tafe_resignations[\"institute_service\"].value_counts())"
   ]
  },
  {
   "cell_type": "markdown",
   "metadata": {},
   "source": [
    "Looking at the number of years of service provided to the respective institutes, we can make the following deductions.\n",
    "\n",
    "* Majority of employees at TAFE institute work there for upto 4 years.\n",
    "* DETE Median service years is around 7 years.\n",
    "* DETE Institute sees a lot of employees stay for upto 5 years."
   ]
  },
  {
   "cell_type": "markdown",
   "metadata": {},
   "source": [
    "The next step would be to look at how many of the employee resignations were directly the result of some form of dissatisfaction.\n",
    "\n",
    "The TAFE survey has 2 disctinct factors to indicate dissatisfaction with the job:\n",
    "* Contributing Factors. Dissatisfaction\n",
    "* Contributing Factors. Job Dissatisfaction\n",
    "\n",
    "The DETE survey meanwhile has multiple factors to indicate some form of dissatisfaction:\n",
    "* job_dissatisfaction\n",
    "* dissatisfaction_with_the_department\n",
    "* physical_work_environment\n",
    "* lack_of_recognition\n",
    "* lack_of_job_security\n",
    "* work_location\n",
    "* employment_conditions\n",
    "* work_life_balance\n",
    "* workload"
   ]
  },
  {
   "cell_type": "code",
   "execution_count": 17,
   "metadata": {
    "collapsed": false
   },
   "outputs": [
    {
     "name": "stdout",
     "output_type": "stream",
     "text": [
      "False    733\n",
      "True      89\n",
      "Name: job_dissatisfaction, dtype: int64\n",
      "False    761\n",
      "True      61\n",
      "Name: dissatisfaction_with_the_department, dtype: int64\n"
     ]
    }
   ],
   "source": [
    "print(dete_survey_updated[\"job_dissatisfaction\"].value_counts())\n",
    "print(dete_survey_updated[\"dissatisfaction_with_the_department\"].value_counts())"
   ]
  },
  {
   "cell_type": "code",
   "execution_count": 18,
   "metadata": {
    "collapsed": false
   },
   "outputs": [
    {
     "name": "stdout",
     "output_type": "stream",
     "text": [
      "-                                         371\n",
      "Contributing Factors. Dissatisfaction      66\n",
      "Name: Contributing Factors. Dissatisfaction, dtype: int64\n",
      "-                      360\n",
      "Job Dissatisfaction     77\n",
      "Name: Contributing Factors. Job Dissatisfaction, dtype: int64\n"
     ]
    }
   ],
   "source": [
    "print(tafe_survey_updated[\"Contributing Factors. Dissatisfaction\"].value_counts())\n",
    "print(tafe_survey_updated[\"Contributing Factors. Job Dissatisfaction\"].value_counts())"
   ]
  },
  {
   "cell_type": "markdown",
   "metadata": {},
   "source": [
    "The TAFE survey responses need to be changed to the same format as the DETE survey for consistency in our analysis. "
   ]
  },
  {
   "cell_type": "code",
   "execution_count": 19,
   "metadata": {
    "collapsed": true
   },
   "outputs": [],
   "source": [
    "def update_response(value):\n",
    "    if(pd.isnull(value)):\n",
    "        return np.nan\n",
    "    if(value == '-'):\n",
    "        return (False)\n",
    "    else:\n",
    "        return (True)"
   ]
  },
  {
   "cell_type": "code",
   "execution_count": 20,
   "metadata": {
    "collapsed": false
   },
   "outputs": [
    {
     "name": "stderr",
     "output_type": "stream",
     "text": [
      "/dataquest/system/env/python3/lib/python3.4/site-packages/ipykernel/__main__.py:2: SettingWithCopyWarning:\n",
      "\n",
      "\n",
      "A value is trying to be set on a copy of a slice from a DataFrame.\n",
      "Try using .loc[row_indexer,col_indexer] = value instead\n",
      "\n",
      "See the caveats in the documentation: http://pandas.pydata.org/pandas-docs/stable/indexing.html#indexing-view-versus-copy\n",
      "\n"
     ]
    },
    {
     "data": {
      "text/plain": [
       "False    241\n",
       "True      91\n",
       "NaN        8\n",
       "Name: dissatisfied, dtype: int64"
      ]
     },
     "execution_count": 20,
     "metadata": {},
     "output_type": "execute_result"
    }
   ],
   "source": [
    "tafe_resignations[\"dissatisfied\"] = (tafe_resignations[['Contributing Factors. Dissatisfaction','Contributing Factors. Job Dissatisfaction']]\n",
    "                                     .applymap(update_response).any(axis=1,skipna=False))\n",
    "\n",
    "tafe_resignations_upd = tafe_resignations.copy()\n",
    "tafe_resignations_upd['dissatisfied'].value_counts(dropna=False)"
   ]
  },
  {
   "cell_type": "code",
   "execution_count": 21,
   "metadata": {
    "collapsed": false
   },
   "outputs": [
    {
     "name": "stderr",
     "output_type": "stream",
     "text": [
      "/dataquest/system/env/python3/lib/python3.4/site-packages/ipykernel/__main__.py:6: SettingWithCopyWarning:\n",
      "\n",
      "\n",
      "A value is trying to be set on a copy of a slice from a DataFrame.\n",
      "Try using .loc[row_indexer,col_indexer] = value instead\n",
      "\n",
      "See the caveats in the documentation: http://pandas.pydata.org/pandas-docs/stable/indexing.html#indexing-view-versus-copy\n",
      "\n"
     ]
    },
    {
     "data": {
      "text/plain": [
       "False    162\n",
       "True     149\n",
       "Name: dissatisfied, dtype: int64"
      ]
     },
     "execution_count": 21,
     "metadata": {},
     "output_type": "execute_result"
    }
   ],
   "source": [
    "# Update the values in columns related to dissatisfaction to be either True, False, or NaN\n",
    "dete_resignations['dissatisfied'] = (dete_resignations[['job_dissatisfaction',\n",
    "       'dissatisfaction_with_the_department', 'physical_work_environment',\n",
    "       'lack_of_recognition', 'lack_of_job_security', 'work_location',\n",
    "       'employment_conditions', 'work_life_balance',\n",
    "       'workload']].any(1, skipna=False))\n",
    "\n",
    "dete_resignations_upd = dete_resignations.copy()\n",
    "dete_resignations_upd['dissatisfied'].value_counts(dropna=False)"
   ]
  },
  {
   "cell_type": "markdown",
   "metadata": {},
   "source": [
    "Both surveys have been modified to include a column 'dissatisfied' that accounts for the role of workplace dissatisfaction in the resignation of the employees."
   ]
  },
  {
   "cell_type": "markdown",
   "metadata": {},
   "source": [
    "Now that both datasets have been changed to the same standards as each other, we can proceed to combine them together before moving forward with a comprehensive analysis."
   ]
  },
  {
   "cell_type": "code",
   "execution_count": 22,
   "metadata": {
    "collapsed": false
   },
   "outputs": [
    {
     "data": {
      "text/plain": [
       "torres_strait                                            0\n",
       "south_sea                                                3\n",
       "aboriginal                                               7\n",
       "disability                                               8\n",
       "nesb                                                     9\n",
       "business_unit                                           32\n",
       "classification                                         161\n",
       "region                                                 265\n",
       "role_start_date                                        271\n",
       "dete_start_date                                        283\n",
       "role_service                                           290\n",
       "career_move_to_public_sector                           311\n",
       "employment_conditions                                  311\n",
       "work_location                                          311\n",
       "lack_of_job_security                                   311\n",
       "job_dissatisfaction                                    311\n",
       "dissatisfaction_with_the_department                    311\n",
       "workload                                               311\n",
       "lack_of_recognition                                    311\n",
       "interpersonal_conflicts                                311\n",
       "maternity/family                                       311\n",
       "none_of_the_above                                      311\n",
       "physical_work_environment                              311\n",
       "relocation                                             311\n",
       "study/travel                                           311\n",
       "traumatic_incident                                     311\n",
       "work_life_balance                                      311\n",
       "career_move_to_private_sector                          311\n",
       "ill_health                                             311\n",
       "Contributing Factors. Career Move - Private Sector     332\n",
       "Contributing Factors. Other                            332\n",
       "Contributing Factors. Career Move - Public Sector      332\n",
       "Contributing Factors. Career Move - Self-employment    332\n",
       "Contributing Factors. Travel                           332\n",
       "Contributing Factors. Study                            332\n",
       "Contributing Factors. Dissatisfaction                  332\n",
       "Contributing Factors. Ill Health                       332\n",
       "Contributing Factors. NONE                             332\n",
       "Contributing Factors. Maternity/Family                 332\n",
       "Contributing Factors. Job Dissatisfaction              332\n",
       "Contributing Factors. Interpersonal Conflict           332\n",
       "WorkArea                                               340\n",
       "Institute                                              340\n",
       "institute_service                                      563\n",
       "gender                                                 592\n",
       "age                                                    596\n",
       "employment_status                                      597\n",
       "position                                               598\n",
       "cease_date                                             635\n",
       "dissatisfied                                           643\n",
       "id                                                     651\n",
       "separationtype                                         651\n",
       "institute                                              651\n",
       "dtype: int64"
      ]
     },
     "execution_count": 22,
     "metadata": {},
     "output_type": "execute_result"
    }
   ],
   "source": [
    "#Including a column with a label to distinguish DETE and TAFE data\n",
    "dete_resignations_upd[\"institute\"] = \"DETE\"\n",
    "tafe_resignations_upd[\"institute\"] = \"TAFE\"\n",
    "\n",
    "survey_combined = pd.concat([dete_resignations_upd, tafe_resignations_upd], ignore_index=True)\n",
    "\n",
    "#Checking for null values for combining\n",
    "survey_combined.notnull().sum().sort_values()"
   ]
  },
  {
   "cell_type": "markdown",
   "metadata": {},
   "source": [
    "There are some columns with 500 or more null values, on closer inspection we can see that they do not contribute to our end objective and hence can be dropped."
   ]
  },
  {
   "cell_type": "code",
   "execution_count": 23,
   "metadata": {
    "collapsed": false
   },
   "outputs": [
    {
     "data": {
      "text/plain": [
       "institute_service    563\n",
       "gender               592\n",
       "age                  596\n",
       "employment_status    597\n",
       "position             598\n",
       "cease_date           635\n",
       "dissatisfied         643\n",
       "id                   651\n",
       "institute            651\n",
       "separationtype       651\n",
       "dtype: int64"
      ]
     },
     "execution_count": 23,
     "metadata": {},
     "output_type": "execute_result"
    }
   ],
   "source": [
    "survey_combined_upd = survey_combined.dropna(thresh=500,axis=1)\n",
    "\n",
    "#Checking for null values for combining\n",
    "survey_combined_upd.notnull().sum().sort_values()"
   ]
  },
  {
   "cell_type": "markdown",
   "metadata": {},
   "source": [
    "Since we are asking the question as to whether the years of service provided has an impact on the dissatisfaction experienced by the employees. We look to categorize the employees into groups based on the number of years they have been at the DETE and TAFE.\n",
    "\n",
    "An [article](https://www.businesswire.com/news/home/20171108006002/en/Age-Number-Engage-Employees-Career-Stage) published in 2017 suggests that rather than age an employee's career stage would be a more effective metric for analysis.\n",
    "\n",
    "We can assign provisional labels to the employees based on their service years.\n",
    "* New: Less than 3 years at a company\n",
    "* Experienced: 3-6 years at a company\n",
    "* Established: 7-10 years at a company\n",
    "* Veteran: 11 or more years at a company"
   ]
  },
  {
   "cell_type": "code",
   "execution_count": 24,
   "metadata": {
    "collapsed": false
   },
   "outputs": [
    {
     "data": {
      "text/plain": [
       "NaN                   88\n",
       "Less than 1 year      73\n",
       "1-2                   64\n",
       "3-4                   63\n",
       "5-6                   33\n",
       "11-20                 26\n",
       "5.0                   23\n",
       "1.0                   22\n",
       "7-10                  21\n",
       "0.0                   20\n",
       "3.0                   20\n",
       "6.0                   17\n",
       "4.0                   16\n",
       "9.0                   14\n",
       "2.0                   14\n",
       "7.0                   13\n",
       "More than 20 years    10\n",
       "8.0                    8\n",
       "13.0                   8\n",
       "20.0                   7\n",
       "15.0                   7\n",
       "14.0                   6\n",
       "10.0                   6\n",
       "12.0                   6\n",
       "17.0                   6\n",
       "22.0                   6\n",
       "16.0                   5\n",
       "18.0                   5\n",
       "24.0                   4\n",
       "11.0                   4\n",
       "23.0                   4\n",
       "21.0                   3\n",
       "19.0                   3\n",
       "39.0                   3\n",
       "32.0                   3\n",
       "36.0                   2\n",
       "26.0                   2\n",
       "28.0                   2\n",
       "30.0                   2\n",
       "25.0                   2\n",
       "42.0                   1\n",
       "41.0                   1\n",
       "38.0                   1\n",
       "33.0                   1\n",
       "35.0                   1\n",
       "34.0                   1\n",
       "31.0                   1\n",
       "29.0                   1\n",
       "27.0                   1\n",
       "49.0                   1\n",
       "Name: institute_service, dtype: int64"
      ]
     },
     "execution_count": 24,
     "metadata": {},
     "output_type": "execute_result"
    }
   ],
   "source": [
    "survey_combined_upd[\"institute_service\"].value_counts(dropna=False)"
   ]
  },
  {
   "cell_type": "code",
   "execution_count": 26,
   "metadata": {
    "collapsed": false
   },
   "outputs": [
    {
     "name": "stderr",
     "output_type": "stream",
     "text": [
      "/dataquest/system/env/python3/lib/python3.4/site-packages/ipykernel/__main__.py:2: FutureWarning:\n",
      "\n",
      "currently extract(expand=None) means expand=False (return Index/Series/DataFrame) but in a future version of pandas this will be changed to expand=True (return DataFrame)\n",
      "\n",
      "/dataquest/system/env/python3/lib/python3.4/site-packages/ipykernel/__main__.py:2: SettingWithCopyWarning:\n",
      "\n",
      "\n",
      "A value is trying to be set on a copy of a slice from a DataFrame.\n",
      "Try using .loc[row_indexer,col_indexer] = value instead\n",
      "\n",
      "See the caveats in the documentation: http://pandas.pydata.org/pandas-docs/stable/indexing.html#indexing-view-versus-copy\n",
      "\n",
      "/dataquest/system/env/python3/lib/python3.4/site-packages/ipykernel/__main__.py:4: SettingWithCopyWarning:\n",
      "\n",
      "\n",
      "A value is trying to be set on a copy of a slice from a DataFrame.\n",
      "Try using .loc[row_indexer,col_indexer] = value instead\n",
      "\n",
      "See the caveats in the documentation: http://pandas.pydata.org/pandas-docs/stable/indexing.html#indexing-view-versus-copy\n",
      "\n"
     ]
    },
    {
     "data": {
      "text/plain": [
       " 1.0     159\n",
       "NaN       88\n",
       " 3.0      83\n",
       " 5.0      56\n",
       " 7.0      34\n",
       " 11.0     30\n",
       " 0.0      20\n",
       " 20.0     17\n",
       " 6.0      17\n",
       " 4.0      16\n",
       " 9.0      14\n",
       " 2.0      14\n",
       " 13.0      8\n",
       " 8.0       8\n",
       " 15.0      7\n",
       " 22.0      6\n",
       " 10.0      6\n",
       " 17.0      6\n",
       " 14.0      6\n",
       " 12.0      6\n",
       " 16.0      5\n",
       " 18.0      5\n",
       " 24.0      4\n",
       " 23.0      4\n",
       " 21.0      3\n",
       " 39.0      3\n",
       " 32.0      3\n",
       " 19.0      3\n",
       " 36.0      2\n",
       " 30.0      2\n",
       " 25.0      2\n",
       " 26.0      2\n",
       " 28.0      2\n",
       " 42.0      1\n",
       " 29.0      1\n",
       " 35.0      1\n",
       " 27.0      1\n",
       " 41.0      1\n",
       " 49.0      1\n",
       " 38.0      1\n",
       " 34.0      1\n",
       " 33.0      1\n",
       " 31.0      1\n",
       "Name: institute_service, dtype: int64"
      ]
     },
     "execution_count": 26,
     "metadata": {},
     "output_type": "execute_result"
    }
   ],
   "source": [
    "survey_combined_upd[\"institute_service\"] = (survey_combined_upd[\"institute_service\"]\n",
    "                                            .astype('str').str.extract(r\"(\\d+)\"))\n",
    "survey_combined_upd[\"institute_service\"] = (survey_combined_upd[\"institute_service\"]\n",
    "                                                .astype('float'))\n",
    "survey_combined_upd[\"institute_service\"].value_counts(dropna=False)"
   ]
  },
  {
   "cell_type": "code",
   "execution_count": 27,
   "metadata": {
    "collapsed": true
   },
   "outputs": [],
   "source": [
    "def career_stage(value):\n",
    "    if (value < 3):\n",
    "        return \"New\"\n",
    "    elif (value >= 3 and value <=6):\n",
    "        return \"Experienced\"\n",
    "    elif (value >= 7 and value <= 10):\n",
    "        return \"Established\"\n",
    "    elif (value >= 11):\n",
    "        return \"Veteran\"\n",
    "    elif (pd.isnull(value)):\n",
    "        return np.nan"
   ]
  },
  {
   "cell_type": "code",
   "execution_count": 29,
   "metadata": {
    "collapsed": false
   },
   "outputs": [
    {
     "name": "stderr",
     "output_type": "stream",
     "text": [
      "/dataquest/system/env/python3/lib/python3.4/site-packages/ipykernel/__main__.py:1: SettingWithCopyWarning:\n",
      "\n",
      "\n",
      "A value is trying to be set on a copy of a slice from a DataFrame.\n",
      "Try using .loc[row_indexer,col_indexer] = value instead\n",
      "\n",
      "See the caveats in the documentation: http://pandas.pydata.org/pandas-docs/stable/indexing.html#indexing-view-versus-copy\n",
      "\n"
     ]
    },
    {
     "data": {
      "text/plain": [
       "New            193\n",
       "Experienced    172\n",
       "Veteran        136\n",
       "NaN             88\n",
       "Established     62\n",
       "Name: career_stage, dtype: int64"
      ]
     },
     "execution_count": 29,
     "metadata": {},
     "output_type": "execute_result"
    }
   ],
   "source": [
    "survey_combined_upd[\"career_stage\"] = survey_combined_upd[\"institute_service\"].apply(career_stage)\n",
    "\n",
    "survey_combined_upd[\"career_stage\"].value_counts(dropna=False)"
   ]
  },
  {
   "cell_type": "markdown",
   "metadata": {},
   "source": [
    "With the employees now assigned labels based on their year of service at the institutes, we can go ahead and look at the number of employees in each stage of their careers who were dissatisfied."
   ]
  },
  {
   "cell_type": "code",
   "execution_count": 30,
   "metadata": {
    "collapsed": false
   },
   "outputs": [
    {
     "data": {
      "text/plain": [
       "False    403\n",
       "True     240\n",
       "NaN        8\n",
       "Name: dissatisfied, dtype: int64"
      ]
     },
     "execution_count": 30,
     "metadata": {},
     "output_type": "execute_result"
    }
   ],
   "source": [
    "survey_combined_upd[\"dissatisfied\"].value_counts(dropna=False)"
   ]
  },
  {
   "cell_type": "code",
   "execution_count": 33,
   "metadata": {
    "collapsed": false
   },
   "outputs": [
    {
     "name": "stderr",
     "output_type": "stream",
     "text": [
      "/dataquest/system/env/python3/lib/python3.4/site-packages/ipykernel/__main__.py:1: SettingWithCopyWarning:\n",
      "\n",
      "\n",
      "A value is trying to be set on a copy of a slice from a DataFrame.\n",
      "Try using .loc[row_indexer,col_indexer] = value instead\n",
      "\n",
      "See the caveats in the documentation: http://pandas.pydata.org/pandas-docs/stable/indexing.html#indexing-view-versus-copy\n",
      "\n"
     ]
    },
    {
     "data": {
      "text/plain": [
       "False    411\n",
       "True     240\n",
       "Name: dissatisfied, dtype: int64"
      ]
     },
     "execution_count": 33,
     "metadata": {},
     "output_type": "execute_result"
    }
   ],
   "source": [
    "survey_combined_upd[\"dissatisfied\"] = survey_combined_upd[\"dissatisfied\"].fillna(False)\n",
    "survey_combined_upd[\"dissatisfied\"].value_counts(dropna=False)"
   ]
  },
  {
   "cell_type": "code",
   "execution_count": 45,
   "metadata": {
    "collapsed": false
   },
   "outputs": [
    {
     "data": {
      "text/html": [
       "<div>\n",
       "<style scoped>\n",
       "    .dataframe tbody tr th:only-of-type {\n",
       "        vertical-align: middle;\n",
       "    }\n",
       "\n",
       "    .dataframe tbody tr th {\n",
       "        vertical-align: top;\n",
       "    }\n",
       "\n",
       "    .dataframe thead th {\n",
       "        text-align: right;\n",
       "    }\n",
       "</style>\n",
       "<table border=\"1\" class=\"dataframe\">\n",
       "  <thead>\n",
       "    <tr style=\"text-align: right;\">\n",
       "      <th></th>\n",
       "      <th>dissatisfied</th>\n",
       "    </tr>\n",
       "    <tr>\n",
       "      <th>career_stage</th>\n",
       "      <th></th>\n",
       "    </tr>\n",
       "  </thead>\n",
       "  <tbody>\n",
       "    <tr>\n",
       "      <th>New</th>\n",
       "      <td>0.295337</td>\n",
       "    </tr>\n",
       "    <tr>\n",
       "      <th>Experienced</th>\n",
       "      <td>0.343023</td>\n",
       "    </tr>\n",
       "    <tr>\n",
       "      <th>Veteran</th>\n",
       "      <td>0.485294</td>\n",
       "    </tr>\n",
       "    <tr>\n",
       "      <th>Established</th>\n",
       "      <td>0.516129</td>\n",
       "    </tr>\n",
       "  </tbody>\n",
       "</table>\n",
       "</div>"
      ],
      "text/plain": [
       "              dissatisfied\n",
       "career_stage              \n",
       "New               0.295337\n",
       "Experienced       0.343023\n",
       "Veteran           0.485294\n",
       "Established       0.516129"
      ]
     },
     "execution_count": 45,
     "metadata": {},
     "output_type": "execute_result"
    }
   ],
   "source": [
    "dissatisfied = survey_combined_upd.pivot_table(values=\"dissatisfied\",index=\"career_stage\")\n",
    "dissatisfied = dissatisfied.sort_values(\"dissatisfied\",ascending=True)\n",
    "dissatisfied"
   ]
  },
  {
   "cell_type": "code",
   "execution_count": 46,
   "metadata": {
    "collapsed": false
   },
   "outputs": [
    {
     "data": {
      "image/png": "[encoded data removed]",
      "text/plain": [
       "<matplotlib.figure.Figure at 0x7fa88fe0f278>"
      ]
     },
     "metadata": {},
     "output_type": "display_data"
    }
   ],
   "source": [
    "dissatisfied.plot(kind=\"bar\",rot=45)\n",
    "plt.show()"
   ]
  },
  {
   "cell_type": "markdown",
   "metadata": {},
   "source": [
    "Purely based on dissatisfaction in the workplace, we can see that its the \"Established\" (7-10 years of service) category of employees who are the most disgruntled and more than 50% of these employees end up resigning.\n",
    "\n",
    "New employees tend to be the least likely to resign, this could be because they are still in the early stages of their career arc and are working towards their first promotions."
   ]
  }
 ],
 "metadata": {
  "kernelspec": {
   "display_name": "Python 3",
   "language": "python",
   "name": "python3"
  },
  "language_info": {
   "codemirror_mode": {
    "name": "ipython",
    "version": 3
   },
   "file_extension": ".py",
   "mimetype": "text/x-python",
   "name": "python",
   "nbconvert_exporter": "python",
   "pygments_lexer": "ipython3",
   "version": "3.4.3"
  }
 },
 "nbformat": 4,
 "nbformat_minor": 2
}
